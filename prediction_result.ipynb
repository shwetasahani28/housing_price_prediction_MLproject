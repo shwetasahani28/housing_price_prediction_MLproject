{
 "cells": [
  {
   "cell_type": "code",
   "execution_count": 1,
   "id": "3be9f97f-8a38-42a3-a214-7589ee31c65d",
   "metadata": {},
   "outputs": [],
   "source": [
    "import numpy as np\n",
    "from  joblib import dump, load"
   ]
  },
  {
   "cell_type": "code",
   "execution_count": 2,
   "id": "b09b7c53-1d7e-4f74-a47c-8cb804d1ac85",
   "metadata": {},
   "outputs": [],
   "source": [
    "model = load('price_prediction.joblib')"
   ]
  },
  {
   "cell_type": "code",
   "execution_count": 10,
   "id": "d032efec-6f1a-44aa-a0b0-3ab75be1e136",
   "metadata": {},
   "outputs": [],
   "source": [
    "# here I am substituting feature's values to get predicted price"
   ]
  },
  {
   "cell_type": "code",
   "execution_count": 3,
   "id": "5a9f71ff-2cb0-4c04-b918-b31248f7825c",
   "metadata": {},
   "outputs": [],
   "source": [
    "features= np.array([[-0.43942006,  3.12628155, -1.12165014, -0.27288841, -1.42262747,\n",
    "       -0.24141041, -1.31238772,  2.61111401, -1.0016859 , -0.5778192 ,\n",
    "       -0.97491834,  0.41164221, -0.86091034]])"
   ]
  },
  {
   "cell_type": "code",
   "execution_count": 4,
   "id": "3f4599e9-3f42-4637-ac6a-30fcd9b0d7f0",
   "metadata": {},
   "outputs": [
    {
     "data": {
      "text/plain": [
       "array([22.468])"
      ]
     },
     "execution_count": 4,
     "metadata": {},
     "output_type": "execute_result"
    }
   ],
   "source": [
    "model.predict(features)"
   ]
  },
  {
   "cell_type": "code",
   "execution_count": 6,
   "id": "4f823fa9-9b37-4904-94aa-6cc7021f3b69",
   "metadata": {},
   "outputs": [],
   "source": [
    "features= np.array([[-1.43942006,  3.12628155, -4.12165014, -0.27288841, -1.42262747,\n",
    "       -0.24141041, -1.31238772,  2.61111401, -1.0016859 , -0.5778192 ,\n",
    "       -0.97491834,  0.41164221, -4.86091034]])"
   ]
  },
  {
   "cell_type": "code",
   "execution_count": 7,
   "id": "864a9f8f-f7b3-4143-9e20-0fa4469d788a",
   "metadata": {},
   "outputs": [
    {
     "data": {
      "text/plain": [
       "array([25.852])"
      ]
     },
     "execution_count": 7,
     "metadata": {},
     "output_type": "execute_result"
    }
   ],
   "source": [
    "model.predict(features)"
   ]
  },
  {
   "cell_type": "code",
   "execution_count": 8,
   "id": "a803c1b6-8323-45f1-8463-c90bf6db3336",
   "metadata": {},
   "outputs": [],
   "source": [
    "features= np.array([[-1.43942006,  3.12628155, -4.12165014, -1.27288841, -1.42262747,\n",
    "       -0.041, -9.31238772,  2.61111401, -1.0016859 , -5.0 ,\n",
    "       -0.5,  6.41164221, -4.86091034]])"
   ]
  },
  {
   "cell_type": "code",
   "execution_count": 9,
   "id": "ddbc6dec-3a73-4dda-af1b-b4bc8d4a1ff8",
   "metadata": {},
   "outputs": [
    {
     "data": {
      "text/plain": [
       "array([27.166])"
      ]
     },
     "execution_count": 9,
     "metadata": {},
     "output_type": "execute_result"
    }
   ],
   "source": [
    "model.predict(features)"
   ]
  },
  {
   "cell_type": "code",
   "execution_count": null,
   "id": "082e7439-26cd-40c0-bb93-d5ad770bb491",
   "metadata": {},
   "outputs": [],
   "source": []
  }
 ],
 "metadata": {
  "kernelspec": {
   "display_name": "Python 3 (ipykernel)",
   "language": "python",
   "name": "python3"
  },
  "language_info": {
   "codemirror_mode": {
    "name": "ipython",
    "version": 3
   },
   "file_extension": ".py",
   "mimetype": "text/x-python",
   "name": "python",
   "nbconvert_exporter": "python",
   "pygments_lexer": "ipython3",
   "version": "3.12.0"
  }
 },
 "nbformat": 4,
 "nbformat_minor": 5
}
